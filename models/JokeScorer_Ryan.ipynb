{
 "cells": [
  {
   "cell_type": "markdown",
   "metadata": {},
   "source": [
    "# Joke Scorer Notebook\n",
    "In this notebook we will attempt to develop and fine-tuen the joke scoring module of our network\n",
    "\n",
    "## Import dependencies\n",
    "Including loading any relevant packages and tools that we need"
   ]
  },
  {
   "cell_type": "code",
   "execution_count": 54,
   "metadata": {},
   "outputs": [],
   "source": [
    "import numpy as np\n",
    "import pandas as pd\n",
    "import matplotlib.pyplot as plt\n",
    "import seaborn as sns\n",
    "import nltk\n",
    "import re\n",
    "import sys\n",
    "sys.path.append('../scripts')\n",
    "\n",
    "from textblob import TextBlob\n",
    "from keras.preprocessing.sequence import pad_sequences\n",
    "from keras.preprocessing.text import one_hot\n",
    "from keras.models import Sequential\n",
    "from keras.layers import Embedding, Flatten, Dense, Lambda, Dropout, LSTM\n",
    "from keras.backend import mean\n",
    "from keras.utils import to_categorical\n",
    "from keras import optimizers, initializers\n",
    "from sklearn import metrics\n",
    "from keras import backend as K\n",
    "\n",
    "from load_glove_embeddings import load_glove_embeddings"
   ]
  },
  {
   "cell_type": "code",
   "execution_count": 2,
   "metadata": {},
   "outputs": [
    {
     "name": "stdout",
     "output_type": "stream",
     "text": [
      "[nltk_data] Downloading package stopwords to C:\\Users\\Ryan\n",
      "[nltk_data]     Jenkinson\\AppData\\Roaming\\nltk_data...\n",
      "[nltk_data]   Package stopwords is already up-to-date!\n",
      "[nltk_data] Downloading package wordnet to C:\\Users\\Ryan\n",
      "[nltk_data]     Jenkinson\\AppData\\Roaming\\nltk_data...\n",
      "[nltk_data]   Package wordnet is already up-to-date!\n"
     ]
    },
    {
     "data": {
      "text/plain": [
       "True"
      ]
     },
     "execution_count": 2,
     "metadata": {},
     "output_type": "execute_result"
    }
   ],
   "source": [
    "nltk.download('stopwords')\n",
    "nltk.download('wordnet')"
   ]
  },
  {
   "cell_type": "code",
   "execution_count": 3,
   "metadata": {},
   "outputs": [],
   "source": [
    "word2index, embedding_matrix = load_glove_embeddings('C:/Users/Ryan Jenkinson/Documents/Uni/UCL/Statistical NLP/Coursework 2/nlp-jcag/Local Folder/GloVe/glove.6B.300d.txt', embedding_dim=300)"
   ]
  },
  {
   "cell_type": "markdown",
   "metadata": {},
   "source": [
    "## Let's get stuck in"
   ]
  },
  {
   "cell_type": "code",
   "execution_count": 4,
   "metadata": {},
   "outputs": [],
   "source": [
    "def preprocess(words, to_lowercase=True, remove_punctuation=True, remove_digits=True, \n",
    "               remove_odd_chars=True, remove_stopwords=True, stem=False, spell_check=False,\n",
    "               lemmatize=False):\n",
    "    \n",
    "    if to_lowercase:\n",
    "        words = [w.lower() for w in words]\n",
    "    \n",
    "    if remove_punctuation:\n",
    "        words = [w for w in words if not (re.match(r'^\\W+$', w) != None)]\n",
    "    \n",
    "    if remove_digits:\n",
    "        words = [w for w in words if not w.replace('.','',1).isdigit()]\n",
    "\n",
    "    if remove_odd_chars:\n",
    "        words = [re.sub(r'[^a-zA-Z0-9_]','', w) for w in words]\n",
    "    \n",
    "    if remove_stopwords:\n",
    "        sw = set(nltk.corpus.stopwords.words(\"english\"))\n",
    "        words = [w for w in words if not w in sw]\n",
    "\n",
    "    if spell_check:\n",
    "        words = [str(TextBlob(w).correct()) for w in words]\n",
    "     \n",
    "    if stem:\n",
    "        porter = nltk.PorterStemmer()\n",
    "        words = [porter.stem(w) for w in words]\n",
    "\n",
    "    if lemmatize:\n",
    "        wordnet = nltk.WordNetLemmatizer()\n",
    "        words = [wordnet.lemmatize(w) for w in words]\n",
    "        \n",
    "    return words\n",
    "\n",
    "def lookup_index(docs):\n",
    "    output_matrix = []\n",
    "    for d in docs:\n",
    "        indices = []\n",
    "        for w in d:\n",
    "            if w in word2index.keys():\n",
    "                indices.append(word2index[w])\n",
    "            else:\n",
    "                indices.append(word2index['unk'])\n",
    "        output_matrix.append(indices)\n",
    "    return output_matrix"
   ]
  },
  {
   "cell_type": "code",
   "execution_count": 127,
   "metadata": {},
   "outputs": [
    {
     "data": {
      "text/html": [
       "<div>\n",
       "<style scoped>\n",
       "    .dataframe tbody tr th:only-of-type {\n",
       "        vertical-align: middle;\n",
       "    }\n",
       "\n",
       "    .dataframe tbody tr th {\n",
       "        vertical-align: top;\n",
       "    }\n",
       "\n",
       "    .dataframe thead th {\n",
       "        text-align: right;\n",
       "    }\n",
       "</style>\n",
       "<table border=\"1\" class=\"dataframe\">\n",
       "  <thead>\n",
       "    <tr style=\"text-align: right;\">\n",
       "      <th></th>\n",
       "      <th>Unnamed: 0</th>\n",
       "      <th>Unnamed: 0.1</th>\n",
       "      <th>body</th>\n",
       "      <th>id</th>\n",
       "      <th>score</th>\n",
       "      <th>title</th>\n",
       "    </tr>\n",
       "  </thead>\n",
       "  <tbody>\n",
       "    <tr>\n",
       "      <th>0</th>\n",
       "      <td>0</td>\n",
       "      <td>0</td>\n",
       "      <td>[removed]</td>\n",
       "      <td>7mze5</td>\n",
       "      <td>0</td>\n",
       "      <td>Why do emo kids always have the latest technol...</td>\n",
       "    </tr>\n",
       "    <tr>\n",
       "      <th>1</th>\n",
       "      <td>1</td>\n",
       "      <td>1</td>\n",
       "      <td>[removed]</td>\n",
       "      <td>7po0g</td>\n",
       "      <td>0</td>\n",
       "      <td>Never judge a book by it's cover.....</td>\n",
       "    </tr>\n",
       "    <tr>\n",
       "      <th>2</th>\n",
       "      <td>2</td>\n",
       "      <td>2</td>\n",
       "      <td>[removed]</td>\n",
       "      <td>7po6t</td>\n",
       "      <td>0</td>\n",
       "      <td>I try to avoid buying into this \"Americans are...</td>\n",
       "    </tr>\n",
       "    <tr>\n",
       "      <th>3</th>\n",
       "      <td>3</td>\n",
       "      <td>3</td>\n",
       "      <td>[removed]</td>\n",
       "      <td>7q1d2</td>\n",
       "      <td>0</td>\n",
       "      <td>Why did the condom fly across the room?</td>\n",
       "    </tr>\n",
       "    <tr>\n",
       "      <th>4</th>\n",
       "      <td>4</td>\n",
       "      <td>4</td>\n",
       "      <td>[removed]</td>\n",
       "      <td>7qbwl</td>\n",
       "      <td>8</td>\n",
       "      <td>Oddly addictive: some of the absolute worst jo...</td>\n",
       "    </tr>\n",
       "  </tbody>\n",
       "</table>\n",
       "</div>"
      ],
      "text/plain": [
       "   Unnamed: 0  Unnamed: 0.1       body     id  score  \\\n",
       "0           0             0  [removed]  7mze5      0   \n",
       "1           1             1  [removed]  7po0g      0   \n",
       "2           2             2  [removed]  7po6t      0   \n",
       "3           3             3  [removed]  7q1d2      0   \n",
       "4           4             4  [removed]  7qbwl      8   \n",
       "\n",
       "                                               title  \n",
       "0  Why do emo kids always have the latest technol...  \n",
       "1              Never judge a book by it's cover.....  \n",
       "2  I try to avoid buying into this \"Americans are...  \n",
       "3            Why did the condom fly across the room?  \n",
       "4  Oddly addictive: some of the absolute worst jo...  "
      ]
     },
     "execution_count": 127,
     "metadata": {},
     "output_type": "execute_result"
    }
   ],
   "source": [
    "df = pd.read_csv('../../Local Folder/data/processed_data/combined_jokes_CLEAN.csv')\n",
    "df.head()"
   ]
  },
  {
   "cell_type": "code",
   "execution_count": 6,
   "metadata": {},
   "outputs": [],
   "source": [
    "df['class'] = [0 if df.score[i] <= 3 \\\n",
    "               else 1 if (df.score[i] > 3 and df.score[i] <= 50) \\\n",
    "               else 2 if (df.score[i] > 50 and df.score[i] <= 200) \\\n",
    "               else 3 for i in range(df.shape[0])]"
   ]
  },
  {
   "cell_type": "code",
   "execution_count": 12,
   "metadata": {},
   "outputs": [],
   "source": [
    "df['class'] = [0 if df.score[i] <= 2 \\\n",
    "               else 1 for i in range(df.shape[0])]"
   ]
  },
  {
   "cell_type": "code",
   "execution_count": 128,
   "metadata": {},
   "outputs": [],
   "source": [
    "# Look at the distribution of jokes between a maximum and minimum score\n",
    "min_score = 50\n",
    "max_score = 2000\n",
    "df = df[(min_score <= df[\"score\"]) & (df[\"score\"] <= max_score)]"
   ]
  },
  {
   "cell_type": "code",
   "execution_count": 129,
   "metadata": {},
   "outputs": [
    {
     "name": "stderr",
     "output_type": "stream",
     "text": [
      "c:\\users\\ryan jenkinson\\appdata\\local\\continuum\\anaconda3\\envs\\tensorflow\\lib\\site-packages\\ipykernel_launcher.py:6: SettingWithCopyWarning: \n",
      "A value is trying to be set on a copy of a slice from a DataFrame.\n",
      "Try using .loc[row_indexer,col_indexer] = value instead\n",
      "\n",
      "See the caveats in the documentation: http://pandas.pydata.org/pandas-docs/stable/indexing.html#indexing-view-versus-copy\n",
      "  \n"
     ]
    }
   ],
   "source": [
    "map_score_range = [200,250] # This will define where we start thresholding our scores and using our mapping\n",
    "temp_df = df[(map_score_range[0] <= df[\"score\"])] #& (df[\"score\"] <= max_score)]\n",
    "\n",
    "# Map range using linear interpolation\n",
    "temp_df[\"score\"] = (map_score_range[0] + (map_score_range[1] - map_score_range[0])*\n",
    "                    ((temp_df[\"score\"] - 200) / (max_score - 200))).astype('int') \n",
    "\n",
    "# Combine the dataframe with jokes <= map_score_range[0] with the temp_df, sample them to \"shuffle them\" and reset index\n",
    "df = pd.concat([df.drop(temp_df.index),temp_df]).sample(frac=1).reset_index(drop=True)"
   ]
  },
  {
   "cell_type": "code",
   "execution_count": 130,
   "metadata": {},
   "outputs": [
    {
     "data": {
      "text/html": [
       "<div>\n",
       "<style scoped>\n",
       "    .dataframe tbody tr th:only-of-type {\n",
       "        vertical-align: middle;\n",
       "    }\n",
       "\n",
       "    .dataframe tbody tr th {\n",
       "        vertical-align: top;\n",
       "    }\n",
       "\n",
       "    .dataframe thead th {\n",
       "        text-align: right;\n",
       "    }\n",
       "</style>\n",
       "<table border=\"1\" class=\"dataframe\">\n",
       "  <thead>\n",
       "    <tr style=\"text-align: right;\">\n",
       "      <th></th>\n",
       "      <th>Unnamed: 0</th>\n",
       "      <th>Unnamed: 0.1</th>\n",
       "      <th>body</th>\n",
       "      <th>id</th>\n",
       "      <th>score</th>\n",
       "      <th>title</th>\n",
       "    </tr>\n",
       "  </thead>\n",
       "  <tbody>\n",
       "    <tr>\n",
       "      <th>0</th>\n",
       "      <td>247858</td>\n",
       "      <td>255975</td>\n",
       "      <td>Nevermind, I'm done.</td>\n",
       "      <td>30luq7</td>\n",
       "      <td>72</td>\n",
       "      <td>Man with premature ejaculation seeks understan...</td>\n",
       "    </tr>\n",
       "    <tr>\n",
       "      <th>1</th>\n",
       "      <td>243385</td>\n",
       "      <td>251370</td>\n",
       "      <td>His mom kept telling him to do his homework, \"...</td>\n",
       "      <td>2yq5ud</td>\n",
       "      <td>85</td>\n",
       "      <td>Why did Johnny fail his programming class?</td>\n",
       "    </tr>\n",
       "    <tr>\n",
       "      <th>2</th>\n",
       "      <td>449780</td>\n",
       "      <td>467789</td>\n",
       "      <td>So I took them to the fish market and said \"Sh...</td>\n",
       "      <td>786z43</td>\n",
       "      <td>200</td>\n",
       "      <td>I couldn't afford to take the kids to SeaWorld...</td>\n",
       "    </tr>\n",
       "    <tr>\n",
       "      <th>3</th>\n",
       "      <td>9166</td>\n",
       "      <td>9218</td>\n",
       "      <td>A man inserted an 'ad' in the classifieds: \"Wi...</td>\n",
       "      <td>4z3nwl</td>\n",
       "      <td>74</td>\n",
       "      <td>A man inserted an 'ad' in the classifieds: \"Wi...</td>\n",
       "    </tr>\n",
       "    <tr>\n",
       "      <th>4</th>\n",
       "      <td>304948</td>\n",
       "      <td>314830</td>\n",
       "      <td>You don't need shoes to run, but it fucking he...</td>\n",
       "      <td>3optj3</td>\n",
       "      <td>89</td>\n",
       "      <td>I hate it when people tell me I don't need alc...</td>\n",
       "    </tr>\n",
       "  </tbody>\n",
       "</table>\n",
       "</div>"
      ],
      "text/plain": [
       "   Unnamed: 0  Unnamed: 0.1  \\\n",
       "0      247858        255975   \n",
       "1      243385        251370   \n",
       "2      449780        467789   \n",
       "3        9166          9218   \n",
       "4      304948        314830   \n",
       "\n",
       "                                                body      id  score  \\\n",
       "0                               Nevermind, I'm done.  30luq7     72   \n",
       "1  His mom kept telling him to do his homework, \"...  2yq5ud     85   \n",
       "2  So I took them to the fish market and said \"Sh...  786z43    200   \n",
       "3  A man inserted an 'ad' in the classifieds: \"Wi...  4z3nwl     74   \n",
       "4  You don't need shoes to run, but it fucking he...  3optj3     89   \n",
       "\n",
       "                                               title  \n",
       "0  Man with premature ejaculation seeks understan...  \n",
       "1         Why did Johnny fail his programming class?  \n",
       "2  I couldn't afford to take the kids to SeaWorld...  \n",
       "3  A man inserted an 'ad' in the classifieds: \"Wi...  \n",
       "4  I hate it when people tell me I don't need alc...  "
      ]
     },
     "execution_count": 130,
     "metadata": {},
     "output_type": "execute_result"
    }
   ],
   "source": [
    "df.head()"
   ]
  },
  {
   "cell_type": "code",
   "execution_count": 131,
   "metadata": {},
   "outputs": [
    {
     "data": {
      "text/plain": [
       "<matplotlib.axes._subplots.AxesSubplot at 0x209e48c5be0>"
      ]
     },
     "execution_count": 131,
     "metadata": {},
     "output_type": "execute_result"
    },
    {
     "data": {
      "image/png": "[encoded data removed]",
      "text/plain": [
       "<Figure size 432x288 with 1 Axes>"
      ]
     },
     "metadata": {
      "needs_background": "light"
     },
     "output_type": "display_data"
    }
   ],
   "source": [
    "sns.distplot(df['score'], bins=50, kde=False)"
   ]
  },
  {
   "cell_type": "code",
   "execution_count": 14,
   "metadata": {},
   "outputs": [
    {
     "data": {
      "text/plain": [
       "<matplotlib.axes._subplots.AxesSubplot at 0x20910ce32b0>"
      ]
     },
     "execution_count": 14,
     "metadata": {},
     "output_type": "execute_result"
    },
    {
     "data": {
      "image/png": "[encoded data removed]",
      "text/plain": [
       "<Figure size 432x288 with 1 Axes>"
      ]
     },
     "metadata": {
      "needs_background": "light"
     },
     "output_type": "display_data"
    }
   ],
   "source": [
    "class_counts = df['class'].value_counts()\n",
    "sns.barplot(class_counts.index, class_counts.values)"
   ]
  },
  {
   "cell_type": "code",
   "execution_count": 27,
   "metadata": {},
   "outputs": [],
   "source": [
    "df_train = pd.concat([\n",
    "    df[df['class'] == 0].sample(5000),\n",
    "    df[df['class'] == 1].sample(7500),\n",
    "]).sample(frac=1).reset_index()\n",
    "\n",
    "df_test = pd.concat([\n",
    "    df[df['class'] == 0].sample(1000),\n",
    "    df[df['class'] == 1].sample(1000),\n",
    "]).sample(frac=1).reset_index()"
   ]
  },
  {
   "cell_type": "code",
   "execution_count": 79,
   "metadata": {},
   "outputs": [
    {
     "data": {
      "text/html": [
       "<div>\n",
       "<style scoped>\n",
       "    .dataframe tbody tr th:only-of-type {\n",
       "        vertical-align: middle;\n",
       "    }\n",
       "\n",
       "    .dataframe tbody tr th {\n",
       "        vertical-align: top;\n",
       "    }\n",
       "\n",
       "    .dataframe thead th {\n",
       "        text-align: right;\n",
       "    }\n",
       "</style>\n",
       "<table border=\"1\" class=\"dataframe\">\n",
       "  <thead>\n",
       "    <tr style=\"text-align: right;\">\n",
       "      <th></th>\n",
       "      <th>Unnamed: 0</th>\n",
       "      <th>Unnamed: 0.1</th>\n",
       "      <th>body</th>\n",
       "      <th>id</th>\n",
       "      <th>score</th>\n",
       "      <th>title</th>\n",
       "    </tr>\n",
       "  </thead>\n",
       "  <tbody>\n",
       "    <tr>\n",
       "      <th>0</th>\n",
       "      <td>99979</td>\n",
       "      <td>103353</td>\n",
       "      <td>Don't worry, I like you.</td>\n",
       "      <td>5tb1oc</td>\n",
       "      <td>37</td>\n",
       "      <td>I only lie to people I don't like.</td>\n",
       "    </tr>\n",
       "    <tr>\n",
       "      <th>1</th>\n",
       "      <td>97961</td>\n",
       "      <td>101224</td>\n",
       "      <td>[deleted]</td>\n",
       "      <td>5wneo2</td>\n",
       "      <td>205</td>\n",
       "      <td>I was walking my dog yesterday..</td>\n",
       "    </tr>\n",
       "    <tr>\n",
       "      <th>2</th>\n",
       "      <td>18856</td>\n",
       "      <td>19202</td>\n",
       "      <td>Honestly, I have no idea. It's still an antijo...</td>\n",
       "      <td>50yhkp</td>\n",
       "      <td>14</td>\n",
       "      <td>What do you call an anti-joke that makes it to...</td>\n",
       "    </tr>\n",
       "    <tr>\n",
       "      <th>3</th>\n",
       "      <td>414128</td>\n",
       "      <td>429395</td>\n",
       "      <td>Social security checks</td>\n",
       "      <td>6qhhve</td>\n",
       "      <td>164</td>\n",
       "      <td>2000's kids won't get this</td>\n",
       "    </tr>\n",
       "    <tr>\n",
       "      <th>4</th>\n",
       "      <td>114607</td>\n",
       "      <td>118594</td>\n",
       "      <td>[deleted]</td>\n",
       "      <td>5z3jm6</td>\n",
       "      <td>40</td>\n",
       "      <td>My Grandpa said, \"Your generation relies too m...</td>\n",
       "    </tr>\n",
       "  </tbody>\n",
       "</table>\n",
       "</div>"
      ],
      "text/plain": [
       "   Unnamed: 0  Unnamed: 0.1  \\\n",
       "0       99979        103353   \n",
       "1       97961        101224   \n",
       "2       18856         19202   \n",
       "3      414128        429395   \n",
       "4      114607        118594   \n",
       "\n",
       "                                                body      id  score  \\\n",
       "0                           Don't worry, I like you.  5tb1oc     37   \n",
       "1                                          [deleted]  5wneo2    205   \n",
       "2  Honestly, I have no idea. It's still an antijo...  50yhkp     14   \n",
       "3                             Social security checks  6qhhve    164   \n",
       "4                                          [deleted]  5z3jm6     40   \n",
       "\n",
       "                                               title  \n",
       "0                 I only lie to people I don't like.  \n",
       "1                   I was walking my dog yesterday..  \n",
       "2  What do you call an anti-joke that makes it to...  \n",
       "3                         2000's kids won't get this  \n",
       "4  My Grandpa said, \"Your generation relies too m...  "
      ]
     },
     "execution_count": 79,
     "metadata": {},
     "output_type": "execute_result"
    }
   ],
   "source": [
    "df.head()"
   ]
  },
  {
   "cell_type": "code",
   "execution_count": 132,
   "metadata": {},
   "outputs": [],
   "source": [
    "from sklearn.model_selection import train_test_split\n",
    "X = df.iloc[:,2:].drop(columns='score')\n",
    "y = df['score']\n",
    "df_train, df_test, y_train, y_test = train_test_split(X, y, \n",
    "                                                    test_size=0.2, \n",
    "                                                    random_state=0)\n",
    "df_train.reset_index(inplace=True)\n",
    "df_test.reset_index(inplace=True)"
   ]
  },
  {
   "cell_type": "code",
   "execution_count": 133,
   "metadata": {},
   "outputs": [],
   "source": [
    "def transform_data(df):\n",
    "    # Create the documents\n",
    "    docs = [str(df.title[i]) + ' ' + str(df.body[i]) for i in range(df.shape[0])]\n",
    "    # Clean documents via preprocessing\n",
    "    docs_cleaned = [preprocess(words.split()) for words in docs]\n",
    "    # Encode documents via GloVe\n",
    "    docs_encoded = lookup_index(docs_cleaned)\n",
    "    # Pad to maximum length of the jokes. In our clean dataset we thresholded setup at 50 and punchline at 10 -> maxlen=60\n",
    "    docs_padded = pad_sequences(docs_encoded, maxlen=60, padding='post')\n",
    "    \n",
    "    return docs_padded"
   ]
  },
  {
   "cell_type": "code",
   "execution_count": 134,
   "metadata": {},
   "outputs": [],
   "source": [
    "X_train = transform_data(df_train)\n",
    "X_test = transform_data(df_test)"
   ]
  },
  {
   "cell_type": "code",
   "execution_count": 152,
   "metadata": {},
   "outputs": [],
   "source": [
    "# Clear session to avoid memory issues\n",
    "K.clear_session()\n",
    "\n",
    "embedding_layer = Embedding(input_dim=embedding_matrix.shape[0],\n",
    "                            output_dim=embedding_matrix.shape[1], \n",
    "                            input_length=60,\n",
    "                            weights=[embedding_matrix], \n",
    "                            trainable=False,\n",
    "                            mask_zero=True, #Set to True to avoid adding it in a mean\n",
    "                            name='embedding_layer')\n",
    "\n",
    "model = Sequential()\n",
    "model.add(embedding_layer)\n",
    "#model.add(Lambda(lambda x: mean(x, axis=1)))\n",
    "# model.add(Flatten())\n",
    "# model.add(Dense(2048, activation='relu'))\n",
    "# model.add(Dropout(rate=0.25))\n",
    "# model.add(Dense(1024, activation='relu'))\n",
    "# model.add(Dropout(rate=0.25))\n",
    "# model.add(Dense(512, activation='relu'))\n",
    "# model.add(Dropout(rate=0.25))\n",
    "# model.add(Dense(128, activation='relu'))\n",
    "\n",
    "\n",
    "model.add(LSTM(1024))\n",
    "model.add(Dense(512, activation='relu'))\n",
    "model.add(Dense(256, activation='relu'))\n",
    "model.add(Dense(128, activation='relu'))\n",
    "model.add(Dense(64, activation='relu'))\n",
    "model.add(Dense(1))"
   ]
  },
  {
   "cell_type": "code",
   "execution_count": 153,
   "metadata": {},
   "outputs": [],
   "source": [
    "def precision(y_true, y_pred):\t\n",
    "    \"\"\"Precision metric.\t\n",
    "    Only computes a batch-wise average of precision. Computes the precision, a\n",
    "    metric for multi-label classification of how many selected items are\n",
    "    relevant.\n",
    "    \"\"\"\t\n",
    "    true_positives = K.sum(K.round(K.clip(y_true * y_pred, 0, 1)))\t\n",
    "    predicted_positives = K.sum(K.round(K.clip(y_pred, 0, 1)))\t\n",
    "    precision = true_positives / (predicted_positives + K.epsilon())\t\n",
    "    return precision\n",
    "\n",
    "def recall(y_true, y_pred):\t\n",
    "    \"\"\"Recall metric.\t\n",
    "    Only computes a batch-wise average of recall. Computes the recall, a metric\n",
    "    for multi-label classification of how many relevant items are selected.\t\n",
    "    \"\"\"\t\n",
    "    true_positives = K.sum(K.round(K.clip(y_true * y_pred, 0, 1)))\t\n",
    "    possible_positives = K.sum(K.round(K.clip(y_true, 0, 1)))\t\n",
    "    recall = true_positives / (possible_positives + K.epsilon())\t\n",
    "    return recall\n",
    "\n",
    "def f1_score(y_true, y_pred):\n",
    "    \"\"\"Computes the F1 Score\n",
    "    Only computes a batch-wise average of recall. Computes the recall, a metric\n",
    "    for multi-label classification of how many relevant items are selected.\t\n",
    "    \"\"\"\n",
    "    p = precision(y_true, y_pred)\n",
    "    r = recall(y_true, y_pred)\n",
    "    return (2 * p * r) / (p + r + K.epsilon())"
   ]
  },
  {
   "cell_type": "code",
   "execution_count": 154,
   "metadata": {},
   "outputs": [
    {
     "name": "stdout",
     "output_type": "stream",
     "text": [
      "_________________________________________________________________\n",
      "Layer (type)                 Output Shape              Param #   \n",
      "=================================================================\n",
      "embedding_layer (Embedding)  (None, 60, 300)           120000300 \n",
      "_________________________________________________________________\n",
      "lstm_1 (LSTM)                (None, 1024)              5427200   \n",
      "_________________________________________________________________\n",
      "dense_1 (Dense)              (None, 512)               524800    \n",
      "_________________________________________________________________\n",
      "dense_2 (Dense)              (None, 256)               131328    \n",
      "_________________________________________________________________\n",
      "dense_3 (Dense)              (None, 128)               32896     \n",
      "_________________________________________________________________\n",
      "dense_4 (Dense)              (None, 64)                8256      \n",
      "_________________________________________________________________\n",
      "dense_5 (Dense)              (None, 1)                 65        \n",
      "=================================================================\n",
      "Total params: 126,124,845\n",
      "Trainable params: 6,124,545\n",
      "Non-trainable params: 120,000,300\n",
      "_________________________________________________________________\n",
      "None\n"
     ]
    }
   ],
   "source": [
    "adam = optimizers.adam(lr=0.01)\n",
    "model.compile(optimizer=adam, loss='mean_squared_error') #, precision, recall, f1_score])\n",
    "print(model.summary())"
   ]
  },
  {
   "cell_type": "code",
   "execution_count": 156,
   "metadata": {},
   "outputs": [
    {
     "name": "stdout",
     "output_type": "stream",
     "text": [
      "Train on 18382 samples, validate on 7878 samples\n",
      "Epoch 1/20\n",
      "18382/18382 [==============================] - 1548s 84ms/step - loss: 4630.4083 - val_loss: 4462.1070\n",
      "Epoch 2/20\n",
      "18382/18382 [==============================] - 1554s 85ms/step - loss: 4207.8676 - val_loss: 3952.9017\n",
      "Epoch 3/20\n",
      "18382/18382 [==============================] - 1536s 84ms/step - loss: 4089.0499 - val_loss: 4041.4050\n",
      "Epoch 4/20\n",
      "18382/18382 [==============================] - 1539s 84ms/step - loss: 4038.4384 - val_loss: 4033.1253\n",
      "Epoch 5/20\n",
      "18382/18382 [==============================] - 1541s 84ms/step - loss: 3998.0256 - val_loss: 4250.2700\n",
      "Epoch 6/20\n",
      "18382/18382 [==============================] - 1537s 84ms/step - loss: 3995.7922 - val_loss: 4010.8459\n",
      "Epoch 7/20\n",
      "18382/18382 [==============================] - 1537s 84ms/step - loss: 3983.8408 - val_loss: 4090.6386\n",
      "Epoch 8/20\n",
      "18382/18382 [==============================] - 1543s 84ms/step - loss: 3931.3999 - val_loss: 4017.7211\n",
      "Epoch 9/20\n",
      "18382/18382 [==============================] - 1541s 84ms/step - loss: 3840.4596 - val_loss: 4557.5428\n",
      "Epoch 10/20\n",
      "18382/18382 [==============================] - 1546s 84ms/step - loss: 3845.5365 - val_loss: 4184.9247\n",
      "Epoch 11/20\n",
      "18382/18382 [==============================] - 1538s 84ms/step - loss: 3835.6199 - val_loss: 4163.2148\n",
      "Epoch 12/20\n",
      "18382/18382 [==============================] - 1551s 84ms/step - loss: 3794.4434 - val_loss: 4110.3597\n",
      "Epoch 13/20\n",
      "18382/18382 [==============================] - 1554s 85ms/step - loss: 3766.5985 - val_loss: 4179.4604\n",
      "Epoch 14/20\n",
      "18382/18382 [==============================] - 1551s 84ms/step - loss: 3794.8137 - val_loss: 4111.8739\n",
      "Epoch 15/20\n",
      "18382/18382 [==============================] - 1557s 85ms/step - loss: 3686.7510 - val_loss: 4137.8158\n",
      "Epoch 16/20\n",
      "18382/18382 [==============================] - 1556s 85ms/step - loss: 3727.7288 - val_loss: 4284.6905\n",
      "Epoch 17/20\n",
      "18382/18382 [==============================] - 1560s 85ms/step - loss: 3662.6761 - val_loss: 4472.8346\n",
      "Epoch 18/20\n",
      "18382/18382 [==============================] - 1566s 85ms/step - loss: 3679.6109 - val_loss: 4154.4913\n",
      "Epoch 19/20\n",
      "18382/18382 [==============================] - 1557s 85ms/step - loss: 3643.5636 - val_loss: 4221.7368\n",
      "Epoch 20/20\n",
      "18382/18382 [==============================] - 1551s 84ms/step - loss: 3697.4374 - val_loss: 4191.9628\n"
     ]
    },
    {
     "data": {
      "text/plain": [
       "<keras.callbacks.History at 0x209e5cd3c18>"
      ]
     },
     "execution_count": 156,
     "metadata": {},
     "output_type": "execute_result"
    }
   ],
   "source": [
    "model.fit(X_train, y_train,validation_split=0.3, batch_size=64, epochs=20)"
   ]
  },
  {
   "cell_type": "code",
   "execution_count": 157,
   "metadata": {},
   "outputs": [],
   "source": [
    "y_preds = model.predict(X_test)"
   ]
  },
  {
   "cell_type": "code",
   "execution_count": 158,
   "metadata": {},
   "outputs": [
    {
     "data": {
      "text/plain": [
       "array([155.0667 , 148.90782, 160.01671, ..., 149.23553, 136.79855,\n",
       "       154.49553], dtype=float32)"
      ]
     },
     "execution_count": 158,
     "metadata": {},
     "output_type": "execute_result"
    }
   ],
   "source": [
    "y_preds.squeeze()"
   ]
  },
  {
   "cell_type": "code",
   "execution_count": 159,
   "metadata": {},
   "outputs": [
    {
     "data": {
      "text/plain": [
       "<matplotlib.axes._subplots.AxesSubplot at 0x209e5d77d30>"
      ]
     },
     "execution_count": 159,
     "metadata": {},
     "output_type": "execute_result"
    },
    {
     "data": {
      "image/png": "[encoded data removed]",
      "text/plain": [
       "<Figure size 432x288 with 1 Axes>"
      ]
     },
     "metadata": {
      "needs_background": "light"
     },
     "output_type": "display_data"
    }
   ],
   "source": [
    "sns.scatterplot(x=y_test,y=y_preds.squeeze())"
   ]
  },
  {
   "cell_type": "code",
   "execution_count": 159,
   "metadata": {},
   "outputs": [
    {
     "data": {
      "text/plain": [
       "Text(0.5, 24.0, 'Predicted label')"
      ]
     },
     "execution_count": 159,
     "metadata": {},
     "output_type": "execute_result"
    },
    {
     "data": {
      "image/png": "[encoded data removed]",
      "text/plain": [
       "<Figure size 576x360 with 2 Axes>"
      ]
     },
     "metadata": {
      "needs_background": "light"
     },
     "output_type": "display_data"
    }
   ],
   "source": [
    "y_test = df_test['class']\n",
    "y_pred = model.predict_classes(X_test)\n",
    "cm = metrics.confusion_matrix(y_test, y_pred)\n",
    "\n",
    "plt.figure(figsize = (8,5))\n",
    "sns.heatmap(cm, annot=True,fmt='g')\n",
    "plt.ylabel('True label')\n",
    "plt.xlabel('Predicted label')"
   ]
  },
  {
   "cell_type": "code",
   "execution_count": null,
   "metadata": {},
   "outputs": [],
   "source": []
  }
 ],
 "metadata": {
  "kernelspec": {
   "display_name": "Python 3",
   "language": "python",
   "name": "python3"
  },
  "language_info": {
   "codemirror_mode": {
    "name": "ipython",
    "version": 3
   },
   "file_extension": ".py",
   "mimetype": "text/x-python",
   "name": "python",
   "nbconvert_exporter": "python",
   "pygments_lexer": "ipython3",
   "version": "3.6.6"
  }
 },
 "nbformat": 4,
 "nbformat_minor": 2
}
