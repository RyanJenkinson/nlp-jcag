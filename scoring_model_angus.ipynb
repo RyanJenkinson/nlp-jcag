{
 "cells": [
  {
   "cell_type": "code",
   "execution_count": 77,
   "metadata": {},
   "outputs": [],
   "source": [
    "import numpy as np\n",
    "import pandas as pd\n",
    "import matplotlib.pyplot as plt\n",
    "import nltk\n",
    "#nltk.download('stopwords')\n",
    "#nltk.download('wordnet')\n",
    "import re\n",
    "\n",
    "#from textblob import TextBlob\n",
    "from keras.preprocessing.sequence import pad_sequences\n",
    "from keras.preprocessing.text import one_hot\n",
    "from keras.models import Sequential\n",
    "from keras.layers import Embedding, Flatten, Dense, Lambda\n",
    "from keras.layers.normalization import BatchNormalization\n",
    "from keras.backend import mean\n",
    "from keras.utils import to_categorical\n",
    "from keras import optimizers, initializers, regularizers\n",
    "from keras import backend as K\n",
    "\n",
    "from load_glove_embeddings import load_glove_embeddings"
   ]
  },
  {
   "cell_type": "code",
   "execution_count": 2,
   "metadata": {},
   "outputs": [],
   "source": [
    "# Import GloVe embeddings\n",
    "word2index, embedding_matrix = load_glove_embeddings('../../glove.twitter.27B/glove.twitter.27B.200d.txt', embedding_dim=200)"
   ]
  },
  {
   "cell_type": "code",
   "execution_count": 3,
   "metadata": {},
   "outputs": [
    {
     "data": {
      "text/html": [
       "<div>\n",
       "<style scoped>\n",
       "    .dataframe tbody tr th:only-of-type {\n",
       "        vertical-align: middle;\n",
       "    }\n",
       "\n",
       "    .dataframe tbody tr th {\n",
       "        vertical-align: top;\n",
       "    }\n",
       "\n",
       "    .dataframe thead th {\n",
       "        text-align: right;\n",
       "    }\n",
       "</style>\n",
       "<table border=\"1\" class=\"dataframe\">\n",
       "  <thead>\n",
       "    <tr style=\"text-align: right;\">\n",
       "      <th></th>\n",
       "      <th>body</th>\n",
       "      <th>id</th>\n",
       "      <th>score</th>\n",
       "      <th>title</th>\n",
       "    </tr>\n",
       "  </thead>\n",
       "  <tbody>\n",
       "    <tr>\n",
       "      <th>0</th>\n",
       "      <td>Now I have to say \"Leroy can you please paint ...</td>\n",
       "      <td>5tz52q</td>\n",
       "      <td>1</td>\n",
       "      <td>I hate how you cant even say black paint anymore</td>\n",
       "    </tr>\n",
       "    <tr>\n",
       "      <th>1</th>\n",
       "      <td>Pizza doesn't scream when you put it in the ov...</td>\n",
       "      <td>5tz4dd</td>\n",
       "      <td>0</td>\n",
       "      <td>What's the difference between a Jew in Nazi Ge...</td>\n",
       "    </tr>\n",
       "    <tr>\n",
       "      <th>2</th>\n",
       "      <td>...and being there really helped me learn abou...</td>\n",
       "      <td>5tz319</td>\n",
       "      <td>0</td>\n",
       "      <td>I recently went to America....</td>\n",
       "    </tr>\n",
       "    <tr>\n",
       "      <th>3</th>\n",
       "      <td>He got caught trying to sell the two books to ...</td>\n",
       "      <td>5tz1pc</td>\n",
       "      <td>0</td>\n",
       "      <td>You hear about the University book store worke...</td>\n",
       "    </tr>\n",
       "    <tr>\n",
       "      <th>4</th>\n",
       "      <td>Because the p is silent.</td>\n",
       "      <td>5tz1o1</td>\n",
       "      <td>0</td>\n",
       "      <td>Why is it unknown on how pterodactyls urinate ...</td>\n",
       "    </tr>\n",
       "  </tbody>\n",
       "</table>\n",
       "</div>"
      ],
      "text/plain": [
       "                                                body      id  score  \\\n",
       "0  Now I have to say \"Leroy can you please paint ...  5tz52q      1   \n",
       "1  Pizza doesn't scream when you put it in the ov...  5tz4dd      0   \n",
       "2  ...and being there really helped me learn abou...  5tz319      0   \n",
       "3  He got caught trying to sell the two books to ...  5tz1pc      0   \n",
       "4                           Because the p is silent.  5tz1o1      0   \n",
       "\n",
       "                                               title  \n",
       "0   I hate how you cant even say black paint anymore  \n",
       "1  What's the difference between a Jew in Nazi Ge...  \n",
       "2                     I recently went to America....  \n",
       "3  You hear about the University book store worke...  \n",
       "4  Why is it unknown on how pterodactyls urinate ...  "
      ]
     },
     "execution_count": 3,
     "metadata": {},
     "output_type": "execute_result"
    }
   ],
   "source": [
    "# Import data\n",
    "df = pd.read_csv(\"../data/processed_data/jokes_dataset_CLEAN.csv\")\n",
    "df = df.drop(columns=\"Unnamed: 0\")\n",
    "df.head()"
   ]
  },
  {
   "cell_type": "code",
   "execution_count": 4,
   "metadata": {},
   "outputs": [],
   "source": [
    "def preprocess(words, to_lowercase=True, remove_punctuation=False, remove_digits=False, \n",
    "               remove_odd_chars=True, remove_stopwords=False, stem=False, spell_check=False,\n",
    "               lemmatize=False):\n",
    "    \n",
    "    if to_lowercase:\n",
    "        words = [w.lower() for w in words]\n",
    "    \n",
    "    if remove_punctuation:\n",
    "        words = [w for w in words if not (re.match(r'^\\W+$', w) != None)]\n",
    "    \n",
    "    if remove_digits:\n",
    "        words = [w for w in words if not w.replace('.','',1).isdigit()]\n",
    "\n",
    "    if remove_odd_chars:\n",
    "        words = [re.sub(r'[^a-zA-Z0-9_]','', w) for w in words]\n",
    "    \n",
    "    if remove_stopwords:\n",
    "        sw = set(nltk.corpus.stopwords.words(\"english\"))\n",
    "        words = [w for w in words if not w in sw]\n",
    "\n",
    "    if spell_check:\n",
    "        words = [str(TextBlob(w).correct()) for w in words]\n",
    "     \n",
    "    if stem:\n",
    "        porter = nltk.PorterStemmer()\n",
    "        words = [porter.stem(w) for w in words]\n",
    "\n",
    "    if lemmatize:\n",
    "        wordnet = nltk.WordNetLemmatizer()\n",
    "        words = [wordnet.lemmatize(w) for w in words]\n",
    "        \n",
    "    return words\n",
    "\n",
    "def lookup_index(docs):\n",
    "    output_matrix = []\n",
    "    oov = 0\n",
    "    tot = 0\n",
    "    for d in docs:\n",
    "        indices = []\n",
    "        for w in d:\n",
    "            tot +=1\n",
    "            if w in word2index.keys():\n",
    "                indices.append(word2index[w])\n",
    "            else:\n",
    "                oov += 1\n",
    "                indices.append(word2index['unk'])\n",
    "        output_matrix.append(indices)\n",
    "    return output_matrix, float(oov)/tot"
   ]
  },
  {
   "cell_type": "code",
   "execution_count": 5,
   "metadata": {},
   "outputs": [],
   "source": [
    "def precision(y_true, y_pred):\t\n",
    "    \"\"\"Precision metric.\t\n",
    "    Only computes a batch-wise average of precision. Computes the precision, a\n",
    "    metric for multi-label classification of how many selected items are\n",
    "    relevant.\n",
    "    \"\"\"\t\n",
    "    true_positives = K.sum(K.round(K.clip(y_true * y_pred, 0, 1)))\t\n",
    "    predicted_positives = K.sum(K.round(K.clip(y_pred, 0, 1)))\t\n",
    "    precision = true_positives / (predicted_positives + K.epsilon())\t\n",
    "    return precision\n",
    "\n",
    "def recall(y_true, y_pred):\t\n",
    "    \"\"\"Recall metric.\t\n",
    "    Only computes a batch-wise average of recall. Computes the recall, a metric\n",
    "    for multi-label classification of how many relevant items are selected.\t\n",
    "    \"\"\"\t\n",
    "    true_positives = K.sum(K.round(K.clip(y_true * y_pred, 0, 1)))\t\n",
    "    possible_positives = K.sum(K.round(K.clip(y_true, 0, 1)))\t\n",
    "    recall = true_positives / (possible_positives + K.epsilon())\t\n",
    "    return recall\n",
    "\n",
    "def f1_score(y_true, y_pred):\n",
    "    \"\"\"Computes the F1 Score\n",
    "    Only computes a batch-wise average of recall. Computes the recall, a metric\n",
    "    for multi-label classification of how many relevant items are selected.\t\n",
    "    \"\"\"\n",
    "    p = precision(y_true, y_pred)\n",
    "    r = recall(y_true, y_pred)\n",
    "    return (2 * p * r) / (p + r + K.epsilon())"
   ]
  },
  {
   "cell_type": "code",
   "execution_count": 137,
   "metadata": {},
   "outputs": [
    {
     "name": "stdout",
     "output_type": "stream",
     "text": [
      "0    83376\n",
      "1    35129\n",
      "2    27336\n",
      "Name: class, dtype: int64\n",
      "2    20000\n",
      "1    20000\n",
      "0    20000\n",
      "Name: class, dtype: int64\n",
      "0.026435812438126365\n"
     ]
    }
   ],
   "source": [
    "# Define classes for classification\n",
    "df['class'] = [0 if df.score[i] <= 3 \\\n",
    "               else 1 if (df.score[i] > 3 and df.score[i] <= 20) \\\n",
    "               else 2 for i in range(df.shape[0])]\n",
    "print(df['class'].value_counts())\n",
    "#else 2 if (df.score[i] > 20 and df.score[i] <= 50) \\\n",
    "\n",
    "# Select an even sample of classes\n",
    "even_sample = df[df['class']==0][:20000]\n",
    "even_sample = even_sample.append(df[df['class']==1][:20000])\n",
    "even_sample = even_sample.append(df[df['class']==2][:20000])\n",
    "even_sample = even_sample.sample(frac=1).reset_index(drop=True)\n",
    "print(even_sample['class'].value_counts())\n",
    "\n",
    "# Concatonate set-up and punchline\n",
    "docs = [str(even_sample.title[i]) + ' ' + str(even_sample.body[i]) for i in range(even_sample.shape[0])]\n",
    "\n",
    "# Pre-process lowercasing, removing odd characters etc.\n",
    "docs_cleaned = [preprocess(words.split()) for words in docs]\n",
    "\n",
    "# Encode words and print out of vocab proportion\n",
    "docs_encoded, oov = lookup_index(docs_cleaned)\n",
    "print(oov)\n",
    "\n",
    "# Pad sentences to length of 60\n",
    "docs_padded = pad_sequences(docs_encoded, maxlen=60, padding='post')"
   ]
  },
  {
   "cell_type": "code",
   "execution_count": 128,
   "metadata": {},
   "outputs": [
    {
     "name": "stdout",
     "output_type": "stream",
     "text": [
      "_________________________________________________________________\n",
      "Layer (type)                 Output Shape              Param #   \n",
      "=================================================================\n",
      "embedding_layer (Embedding)  (None, 60, 200)           238703000 \n",
      "_________________________________________________________________\n",
      "flatten_25 (Flatten)         (None, 12000)             0         \n",
      "_________________________________________________________________\n",
      "batch_normalization_54 (Batc (None, 12000)             48000     \n",
      "_________________________________________________________________\n",
      "dense_93 (Dense)             (None, 128)               1536128   \n",
      "_________________________________________________________________\n",
      "dense_94 (Dense)             (None, 64)                8256      \n",
      "_________________________________________________________________\n",
      "batch_normalization_55 (Batc (None, 64)                256       \n",
      "_________________________________________________________________\n",
      "dense_95 (Dense)             (None, 32)                2080      \n",
      "_________________________________________________________________\n",
      "dense_96 (Dense)             (None, 3)                 99        \n",
      "=================================================================\n",
      "Total params: 240,297,819\n",
      "Trainable params: 1,570,691\n",
      "Non-trainable params: 238,727,128\n",
      "_________________________________________________________________\n",
      "None\n"
     ]
    }
   ],
   "source": [
    "initializers.glorot_uniform()\n",
    "\n",
    "embedding_layer = Embedding(input_dim=embedding_matrix.shape[0],\n",
    "                            output_dim=embedding_matrix.shape[1], \n",
    "                            input_length=60,\n",
    "                            weights=[embedding_matrix], \n",
    "                            trainable=False,\n",
    "                            mask_zero=False, #set to true to ignore zeros in mean\n",
    "                            name='embedding_layer')\n",
    "\n",
    "model = Sequential()\n",
    "model.add(embedding_layer)\n",
    "model.add(Flatten())\n",
    "model.add(BatchNormalization())\n",
    "#model.add(Lambda(lambda x: mean(x, axis=1)))\n",
    "#model.add(Dense(200, activation='relu'))\n",
    "#model.add(Dense(256, activation='relu'))\n",
    "model.add(Dense(128, activation='relu', input_dim=12000))\n",
    "#model.add(BatchNormalization())\n",
    "model.add(Dense(64, activation='relu', input_dim=128))\n",
    "model.add(BatchNormalization())\n",
    "model.add(Dense(32, activation='relu', input_dim=64))\n",
    "model.add(Dense(3, activation='softmax', input_dim=32)) #kernel_regularizer=regularizers.l2(0.1)\n",
    "\n",
    "adam = optimizers.adam(lr=0.001)\n",
    "model.compile(optimizer=adam, loss='categorical_crossentropy', metrics=['accuracy', precision, recall, f1_score])\n",
    "print(model.summary())"
   ]
  },
  {
   "cell_type": "code",
   "execution_count": 129,
   "metadata": {
    "scrolled": true
   },
   "outputs": [
    {
     "name": "stdout",
     "output_type": "stream",
     "text": [
      "Train on 42000 samples, validate on 18000 samples\n",
      "Epoch 1/20\n",
      "42000/42000 [==============================] - 99s 2ms/step - loss: 1.1072 - acc: 0.3633 - precision: 0.2353 - recall: 0.0243 - f1_score: 0.0419 - val_loss: 1.0978 - val_acc: 0.3737 - val_precision: 0.3454 - val_recall: 0.0361 - val_f1_score: 0.0639\n",
      "Epoch 2/20\n",
      "42000/42000 [==============================] - 83s 2ms/step - loss: 1.0855 - acc: 0.3930 - precision: 0.3687 - recall: 0.0360 - f1_score: 0.0641 - val_loss: 1.0922 - val_acc: 0.3804 - val_precision: 0.3685 - val_recall: 0.0342 - val_f1_score: 0.0613\n",
      "Epoch 3/20\n",
      "42000/42000 [==============================] - 82s 2ms/step - loss: 1.0670 - acc: 0.4214 - precision: 0.5035 - recall: 0.0745 - f1_score: 0.1257 - val_loss: 1.0894 - val_acc: 0.3949 - val_precision: 0.4254 - val_recall: 0.0511 - val_f1_score: 0.0890\n",
      "Epoch 4/20\n",
      "42000/42000 [==============================] - 83s 2ms/step - loss: 1.0450 - acc: 0.4542 - precision: 0.5690 - recall: 0.1365 - f1_score: 0.2151 - val_loss: 1.1089 - val_acc: 0.3828 - val_precision: 0.4342 - val_recall: 0.1134 - val_f1_score: 0.1758\n",
      "Epoch 5/20\n",
      "42000/42000 [==============================] - 83s 2ms/step - loss: 1.0126 - acc: 0.4854 - precision: 0.5960 - recall: 0.2111 - f1_score: 0.3058 - val_loss: 1.1218 - val_acc: 0.3852 - val_precision: 0.4227 - val_recall: 0.1278 - val_f1_score: 0.1923\n",
      "Epoch 6/20\n",
      "42000/42000 [==============================] - 84s 2ms/step - loss: 0.9660 - acc: 0.5232 - precision: 0.6249 - recall: 0.3024 - f1_score: 0.4032 - val_loss: 1.1631 - val_acc: 0.3806 - val_precision: 0.4117 - val_recall: 0.1802 - val_f1_score: 0.2471\n",
      "Epoch 7/20\n",
      "42000/42000 [==============================] - 85s 2ms/step - loss: 0.9012 - acc: 0.5665 - precision: 0.6606 - recall: 0.3961 - f1_score: 0.4920 - val_loss: 1.2366 - val_acc: 0.3799 - val_precision: 0.3967 - val_recall: 0.2181 - val_f1_score: 0.2787\n",
      "Epoch 8/20\n",
      "42000/42000 [==============================] - 85s 2ms/step - loss: 0.8206 - acc: 0.6188 - precision: 0.7045 - recall: 0.4802 - f1_score: 0.5684 - val_loss: 1.3823 - val_acc: 0.3804 - val_precision: 0.3999 - val_recall: 0.2739 - val_f1_score: 0.3232\n",
      "Epoch 9/20\n",
      "42000/42000 [==============================] - 84s 2ms/step - loss: 0.7338 - acc: 0.6663 - precision: 0.7434 - recall: 0.5601 - f1_score: 0.6367 - val_loss: 1.4972 - val_acc: 0.3787 - val_precision: 0.3862 - val_recall: 0.2818 - val_f1_score: 0.3243\n",
      "Epoch 10/20\n",
      "42000/42000 [==============================] - 85s 2ms/step - loss: 0.6522 - acc: 0.7073 - precision: 0.7729 - recall: 0.6211 - f1_score: 0.6869 - val_loss: 1.5930 - val_acc: 0.3742 - val_precision: 0.3814 - val_recall: 0.2887 - val_f1_score: 0.3272\n",
      "Epoch 11/20\n",
      "42000/42000 [==============================] - 86s 2ms/step - loss: 0.5826 - acc: 0.7465 - precision: 0.8033 - recall: 0.6770 - f1_score: 0.7333 - val_loss: 1.7385 - val_acc: 0.3758 - val_precision: 0.3808 - val_recall: 0.2908 - val_f1_score: 0.3285\n",
      "Epoch 12/20\n",
      "42000/42000 [==============================] - 81s 2ms/step - loss: 0.5321 - acc: 0.7677 - precision: 0.8192 - recall: 0.7078 - f1_score: 0.7581 - val_loss: 1.8641 - val_acc: 0.3753 - val_precision: 0.3773 - val_recall: 0.3093 - val_f1_score: 0.3390\n",
      "Epoch 13/20\n",
      "42000/42000 [==============================] - 78s 2ms/step - loss: 0.4886 - acc: 0.7878 - precision: 0.8329 - recall: 0.7376 - f1_score: 0.7813 - val_loss: 1.9133 - val_acc: 0.3713 - val_precision: 0.3748 - val_recall: 0.3145 - val_f1_score: 0.3412\n",
      "Epoch 14/20\n",
      "42000/42000 [==============================] - 81s 2ms/step - loss: 0.4499 - acc: 0.8080 - precision: 0.8498 - recall: 0.7632 - f1_score: 0.8032 - val_loss: 2.0627 - val_acc: 0.3818 - val_precision: 0.3846 - val_recall: 0.3377 - val_f1_score: 0.3589\n",
      "Epoch 15/20\n",
      "42000/42000 [==============================] - 86s 2ms/step - loss: 0.4135 - acc: 0.8238 - precision: 0.8612 - recall: 0.7839 - f1_score: 0.8198 - val_loss: 2.1540 - val_acc: 0.3724 - val_precision: 0.3764 - val_recall: 0.3281 - val_f1_score: 0.3500\n",
      "Epoch 16/20\n",
      "42000/42000 [==============================] - 100s 2ms/step - loss: 0.3922 - acc: 0.8355 - precision: 0.8684 - recall: 0.8012 - f1_score: 0.8327 - val_loss: 2.1661 - val_acc: 0.3749 - val_precision: 0.3759 - val_recall: 0.3307 - val_f1_score: 0.3512\n",
      "Epoch 17/20\n",
      "42000/42000 [==============================] - 88s 2ms/step - loss: 0.3663 - acc: 0.8484 - precision: 0.8785 - recall: 0.8205 - f1_score: 0.8478 - val_loss: 2.2347 - val_acc: 0.3752 - val_precision: 0.3761 - val_recall: 0.3379 - val_f1_score: 0.3555\n",
      "Epoch 18/20\n",
      "42000/42000 [==============================] - 87s 2ms/step - loss: 0.3421 - acc: 0.8575 - precision: 0.8853 - recall: 0.8316 - f1_score: 0.8570 - val_loss: 2.3922 - val_acc: 0.3737 - val_precision: 0.3744 - val_recall: 0.3410 - val_f1_score: 0.3564\n",
      "Epoch 19/20\n",
      "42000/42000 [==============================] - 89s 2ms/step - loss: 0.3278 - acc: 0.8660 - precision: 0.8899 - recall: 0.8422 - f1_score: 0.8648 - val_loss: 2.3692 - val_acc: 0.3719 - val_precision: 0.3733 - val_recall: 0.3426 - val_f1_score: 0.3569\n",
      "Epoch 20/20\n",
      "42000/42000 [==============================] - 87s 2ms/step - loss: 0.3150 - acc: 0.8718 - precision: 0.8938 - recall: 0.8508 - f1_score: 0.8713 - val_loss: 2.4932 - val_acc: 0.3737 - val_precision: 0.3749 - val_recall: 0.3452 - val_f1_score: 0.3590\n"
     ]
    }
   ],
   "source": [
    "results = model.fit(docs_padded, to_categorical(even_sample['class']), validation_split=0.3, batch_size=20, epochs=20)"
   ]
  },
  {
   "cell_type": "code",
   "execution_count": 130,
   "metadata": {},
   "outputs": [
    {
     "data": {
      "image/png": "[encoded data removed]",
      "text/plain": [
       "<Figure size 432x288 with 1 Axes>"
      ]
     },
     "metadata": {
      "needs_background": "light"
     },
     "output_type": "display_data"
    }
   ],
   "source": [
    "# accuracy results\n",
    "plt.plot(results.history['acc'])\n",
    "plt.plot(results.history['val_acc'])\n",
    "plt.title('model accuracy')\n",
    "plt.ylabel('accuracy')\n",
    "plt.xlabel('epoch')\n",
    "plt.legend(['train', 'test'], loc='upper left')\n",
    "plt.show()"
   ]
  },
  {
   "cell_type": "code",
   "execution_count": 131,
   "metadata": {},
   "outputs": [
    {
     "data": {
      "image/png": "[encoded data removed]",
      "text/plain": [
       "<Figure size 432x288 with 1 Axes>"
      ]
     },
     "metadata": {
      "needs_background": "light"
     },
     "output_type": "display_data"
    }
   ],
   "source": [
    "# loss results\n",
    "plt.plot(results.history['loss'])\n",
    "plt.plot(results.history['val_loss'])\n",
    "plt.title('model loss')\n",
    "plt.ylabel('loss')\n",
    "plt.xlabel('epoch')\n",
    "plt.legend(['train', 'test'], loc='upper left')\n",
    "plt.show()"
   ]
  },
  {
   "cell_type": "code",
   "execution_count": null,
   "metadata": {},
   "outputs": [],
   "source": []
  },
  {
   "cell_type": "code",
   "execution_count": 148,
   "metadata": {},
   "outputs": [
    {
     "name": "stdout",
     "output_type": "stream",
     "text": [
      "_________________________________________________________________\n",
      "Layer (type)                 Output Shape              Param #   \n",
      "=================================================================\n",
      "embedding_layer (Embedding)  (None, 60, 200)           238703000 \n",
      "_________________________________________________________________\n",
      "flatten_1 (Flatten)          (None, 12000)             0         \n",
      "_________________________________________________________________\n",
      "batch_normalization_1 (Batch (None, 12000)             48000     \n",
      "_________________________________________________________________\n",
      "dense_1 (Dense)              (None, 128)               1536128   \n",
      "_________________________________________________________________\n",
      "dense_2 (Dense)              (None, 64)                8256      \n",
      "_________________________________________________________________\n",
      "batch_normalization_2 (Batch (None, 64)                256       \n",
      "_________________________________________________________________\n",
      "dense_3 (Dense)              (None, 32)                2080      \n",
      "_________________________________________________________________\n",
      "dense_4 (Dense)              (None, 3)                 99        \n",
      "=================================================================\n",
      "Total params: 240,297,819\n",
      "Trainable params: 1,570,691\n",
      "Non-trainable params: 238,727,128\n",
      "_________________________________________________________________\n",
      "None\n"
     ]
    }
   ],
   "source": [
    "K.clear_session()\n",
    "initializers.glorot_uniform()\n",
    "reg_pen = 0.01\n",
    "\n",
    "\n",
    "embedding_layer = Embedding(input_dim=embedding_matrix.shape[0],\n",
    "                            output_dim=embedding_matrix.shape[1], \n",
    "                            input_length=60,\n",
    "                            weights=[embedding_matrix], \n",
    "                            trainable=False,\n",
    "                            mask_zero=False, #set to true to ignore zeros in mean\n",
    "                            name='embedding_layer')\n",
    "\n",
    "model = Sequential()\n",
    "model.add(embedding_layer)\n",
    "model.add(Flatten())\n",
    "model.add(BatchNormalization())\n",
    "#model.add(Lambda(lambda x: mean(x, axis=1)))\n",
    "#model.add(Dense(200, activation='relu'))\n",
    "#model.add(Dense(256, activation='relu'))\n",
    "model.add(Dense(128, activation='relu', input_dim=12000, kernel_regularizer=regularizers.l2(reg_pen)))\n",
    "#model.add(BatchNormalization())\n",
    "model.add(Dense(64, activation='relu', input_dim=128, kernel_regularizer=regularizers.l2(reg_pen)))\n",
    "model.add(BatchNormalization())\n",
    "model.add(Dense(32, activation='relu', input_dim=64, kernel_regularizer=regularizers.l2(reg_pen)))\n",
    "model.add(Dense(3, activation='softmax', input_dim=32, kernel_regularizer=regularizers.l2(reg_pen))) #\n",
    "\n",
    "adam = optimizers.adam(lr=0.0001)\n",
    "model.compile(optimizer=adam, loss='categorical_crossentropy', metrics=['accuracy', precision, recall, f1_score])\n",
    "print(model.summary())"
   ]
  },
  {
   "cell_type": "code",
   "execution_count": 149,
   "metadata": {},
   "outputs": [
    {
     "name": "stdout",
     "output_type": "stream",
     "text": [
      "Train on 42000 samples, validate on 18000 samples\n",
      "Epoch 1/10\n",
      "42000/42000 [==============================] - 60s 1ms/step - loss: 3.9484 - acc: 0.3571 - precision: 0.3626 - recall: 0.0563 - f1_score: 0.0899 - val_loss: 3.0428 - val_acc: 0.3682 - val_precision: 0.2989 - val_recall: 0.0195 - val_f1_score: 0.0360\n",
      "Epoch 2/10\n",
      "42000/42000 [==============================] - 56s 1ms/step - loss: 2.4737 - acc: 0.4115 - precision: 0.4879 - recall: 0.0511 - f1_score: 0.0903 - val_loss: 2.0865 - val_acc: 0.3801 - val_precision: 0.4355 - val_recall: 0.0546 - val_f1_score: 0.0949\n",
      "Epoch 3/10\n",
      "42000/42000 [==============================] - 56s 1ms/step - loss: 1.8392 - acc: 0.4301 - precision: 0.5351 - recall: 0.0846 - f1_score: 0.1429 - val_loss: 1.7436 - val_acc: 0.3833 - val_precision: 0.4442 - val_recall: 0.0758 - val_f1_score: 0.1269\n",
      "Epoch 4/10\n",
      "42000/42000 [==============================] - 56s 1ms/step - loss: 1.5671 - acc: 0.4499 - precision: 0.5612 - recall: 0.1166 - f1_score: 0.1889 - val_loss: 1.5343 - val_acc: 0.3818 - val_precision: 0.4434 - val_recall: 0.0642 - val_f1_score: 0.1100\n",
      "Epoch 5/10\n",
      "42000/42000 [==============================] - 57s 1ms/step - loss: 1.4227 - acc: 0.4711 - precision: 0.5910 - recall: 0.1550 - f1_score: 0.2414 - val_loss: 1.4499 - val_acc: 0.3862 - val_precision: 0.4510 - val_recall: 0.0872 - val_f1_score: 0.1434\n",
      "Epoch 6/10\n",
      "42000/42000 [==============================] - 55s 1ms/step - loss: 1.3360 - acc: 0.4870 - precision: 0.6023 - recall: 0.1903 - f1_score: 0.2851 - val_loss: 1.4227 - val_acc: 0.3793 - val_precision: 0.4261 - val_recall: 0.1380 - val_f1_score: 0.2058\n",
      "Epoch 7/10\n",
      "42000/42000 [==============================] - 55s 1ms/step - loss: 1.2705 - acc: 0.5107 - precision: 0.6282 - recall: 0.2352 - f1_score: 0.3384 - val_loss: 1.3987 - val_acc: 0.3751 - val_precision: 0.4216 - val_recall: 0.1544 - val_f1_score: 0.2232\n",
      "Epoch 8/10\n",
      "42000/42000 [==============================] - 55s 1ms/step - loss: 1.2192 - acc: 0.5321 - precision: 0.6500 - recall: 0.2845 - f1_score: 0.3924 - val_loss: 1.3846 - val_acc: 0.3836 - val_precision: 0.4093 - val_recall: 0.1552 - val_f1_score: 0.2225\n",
      "Epoch 9/10\n",
      "42000/42000 [==============================] - 55s 1ms/step - loss: 1.1752 - acc: 0.5547 - precision: 0.6655 - recall: 0.3349 - f1_score: 0.4425 - val_loss: 1.3959 - val_acc: 0.3842 - val_precision: 0.4094 - val_recall: 0.1766 - val_f1_score: 0.2443\n",
      "Epoch 10/10\n",
      "42000/42000 [==============================] - 55s 1ms/step - loss: 1.1349 - acc: 0.5811 - precision: 0.6844 - recall: 0.3886 - f1_score: 0.4930 - val_loss: 1.4223 - val_acc: 0.3763 - val_precision: 0.3884 - val_recall: 0.1906 - val_f1_score: 0.2538\n"
     ]
    }
   ],
   "source": [
    "results = model.fit(docs_padded, to_categorical(even_sample['class']), validation_split=0.3, batch_size=30, epochs=10)"
   ]
  },
  {
   "cell_type": "code",
   "execution_count": 150,
   "metadata": {},
   "outputs": [
    {
     "data": {
      "image/png": "[encoded data removed]",
      "text/plain": [
       "<Figure size 432x288 with 1 Axes>"
      ]
     },
     "metadata": {
      "needs_background": "light"
     },
     "output_type": "display_data"
    }
   ],
   "source": [
    "# accuracy results\n",
    "plt.plot(results.history['acc'])\n",
    "plt.plot(results.history['val_acc'])\n",
    "plt.title('model accuracy')\n",
    "plt.ylabel('accuracy')\n",
    "plt.xlabel('epoch')\n",
    "plt.legend(['train', 'test'], loc='upper left')\n",
    "plt.show()"
   ]
  },
  {
   "cell_type": "code",
   "execution_count": 151,
   "metadata": {},
   "outputs": [
    {
     "data": {
      "image/png": "[encoded data removed]",
      "text/plain": [
       "<Figure size 432x288 with 1 Axes>"
      ]
     },
     "metadata": {
      "needs_background": "light"
     },
     "output_type": "display_data"
    }
   ],
   "source": [
    "# loss results\n",
    "plt.plot(results.history['loss'])\n",
    "plt.plot(results.history['val_loss'])\n",
    "plt.title('model loss')\n",
    "plt.ylabel('loss')\n",
    "plt.xlabel('epoch')\n",
    "plt.legend(['train', 'test'], loc='upper left')\n",
    "plt.show()"
   ]
  },
  {
   "cell_type": "code",
   "execution_count": null,
   "metadata": {},
   "outputs": [],
   "source": []
  }
 ],
 "metadata": {
  "kernelspec": {
   "display_name": "Python 3",
   "language": "python",
   "name": "python3"
  },
  "language_info": {
   "codemirror_mode": {
    "name": "ipython",
    "version": 3
   },
   "file_extension": ".py",
   "mimetype": "text/x-python",
   "name": "python",
   "nbconvert_exporter": "python",
   "pygments_lexer": "ipython3",
   "version": "3.6.8"
  }
 },
 "nbformat": 4,
 "nbformat_minor": 2
}
